{
  "nbformat": 4,
  "nbformat_minor": 0,
  "metadata": {
    "colab": {
      "name": "T5_question_answering.ipynb",
      "provenance": [],
      "collapsed_sections": []
    },
    "kernelspec": {
      "name": "python3",
      "display_name": "Python 3"
    }
  },
  "cells": [
    {
      "cell_type": "markdown",
      "metadata": {
        "id": "CebbOFtOMv6X"
      },
      "source": [
        "![JohnSnowLabs](https://nlp.johnsnowlabs.com/assets/images/logo.png)\n",
        "\n",
        "\n",
        "\n",
        "[![Open In Colab](https://colab.research.google.com/assets/colab-badge.svg)](https://colab.research.google.com/github/JohnSnowLabs/nlu/blob/master/examples/colab/component_examples/sequence2sequence/T5_question_answering.ipynb)\n",
        "\n",
        "# `Open book` and `Closed book` question answering with Google's T5  \n",
        "With the latest NLU release and Google's T5 you can answer **general knowledge based questions given no context** and in addition answer **questions on text databases**.      \n",
        "These questions can be asked in natural human language and answerd in just 1 line with NLU!.\n",
        "\n",
        "\n",
        "\n",
        "\n",
        "## What is a `open book question`? \n",
        "You can imagine an `open book` question similar to an examen where you are allowed to bring in text documents or cheat sheets that help you answer questions in an examen. Kinda like bringing a history book to an history examen. \n",
        "\n",
        "In `T5's` terms, this means the model is given a `question` and an **additional piece of textual information** or so called `context`.\n",
        "\n",
        "This enables the `T5` model to answer questions on textual datasets like `medical records`,`newsarticles` , `wiki-databases` , `stories` and `movie scripts` , `product descriptions`, 'legal documents' and many more.\n",
        "\n",
        "You can answer `open book question` in 1 line of code, leveraging the latest NLU release and Google's T5.     \n",
        "All it takes is : \n",
        "\n",
        "\n",
        "\n",
        "```python\n",
        "nlu.load('answer_question').predict(\"\"\"\n",
        "Where did Jebe die?\n",
        "context: Ghenkis Khan recalled Subtai back to Mongolia soon afterwards,\n",
        " and Jebe died on the road back to Samarkand\"\"\")\n",
        ">>> Output: Samarkand\n",
        "```\n",
        "\n",
        "Example for answering medical questions based on medical context\n",
        "``` python\n",
        "question ='''\n",
        "What does increased oxygen concentrations in the patient’s lungs displace? \n",
        "context: Hyperbaric (high-pressure) medicine uses special oxygen chambers to increase the partial pressure of O 2 around the patient and, when needed, the medical staff. \n",
        "Carbon monoxide poisoning, gas gangrene, and decompression sickness (the ’bends’) are sometimes treated using these devices. Increased O 2 concentration in the lungs helps to displace carbon monoxide from the heme group of hemoglobin.\n",
        " Oxygen gas is poisonous to the anaerobic bacteria that cause gas gangrene, so increasing its partial pressure helps kill them. Decompression sickness occurs in divers who decompress too quickly after a dive, resulting in bubbles of inert gas, mostly nitrogen and helium, forming in their blood. Increasing the pressure of O 2 as soon as possible is part of the treatment.\n",
        "'''\n",
        "\n",
        "\n",
        "#Predict on text data with T5\n",
        "nlu.load('answer_question').predict(question)\n",
        ">>> Output: carbon monoxide\t\n",
        "```\n",
        "\n",
        "Take a look at this example on a recent news article snippet : \n",
        "```python\n",
        "question1 = 'Who is Jack ma?'\n",
        "question2 = 'Who is founder of Alibaba Group?'\n",
        "question3 = 'When did Jack Ma re-appear?'\n",
        "question4 = 'How did Alibaba stocks react?'\n",
        "question5 = 'Whom did Jack Ma meet?'\n",
        "question6 = 'Who did Jack Ma hide from?'\n",
        "\n",
        "# from https://www.bbc.com/news/business-55728338 \n",
        "news_article_snippet = \"\"\" context:\n",
        "Alibaba Group founder Jack Ma has made his first appearance since Chinese regulators cracked down on his business empire.\n",
        "His absence had fuelled speculation over his whereabouts amid increasing official scrutiny of his businesses.\n",
        "The billionaire met 100 rural teachers in China via a video meeting on Wednesday, according to local government media.\n",
        "Alibaba shares surged 5% on Hong Kong's stock exchange on the news.\n",
        "\"\"\"\n",
        "# join question with context, works with Pandas DF aswell!\n",
        "questions = [\n",
        "             question1+ news_article_snippet,\n",
        "             question2+ news_article_snippet,\n",
        "             question3+ news_article_snippet,\n",
        "             question4+ news_article_snippet,\n",
        "             question5+ news_article_snippet,\n",
        "             question6+ news_article_snippet,]\n",
        "nlu.load('answer_question').predict(questions)\n",
        "```\n",
        "This will output a Pandas Dataframe similar to this : \n",
        "\n",
        "|Answer|Question|\n",
        "|-----|---------|\n",
        "Alibaba Group founder| \tWho is Jack ma? |        \n",
        "|Jack Ma\t|Who is founder of Alibaba Group? |  \n",
        "Wednesday\t| When did Jack Ma re-appear? | \n",
        "surged 5%\t| How did Alibaba stocks react? | \n",
        "100 rural teachers\t| Whom did Jack Ma meet? | \n",
        "Chinese regulators\t|Who did Jack Ma hide from?|\n",
        "\n",
        "\n",
        "\n",
        "## What is a `closed book question`? \n",
        "A `closed book question` is the exact opposite of a `open book question`. In an examen scenario, you are only allowed to use what you have memorized in your brain and nothing else.      \n",
        "In `T5's` terms this means that T5 can only use it's stored weights to answer a `question` and is given **no aditional context**.        \n",
        "`T5` was pre-trained on the [C4 dataset](https://commoncrawl.org/) which contains **petabytes  of web crawling data**  collected over the last 8 years, including Wikipedia in every language.\n",
        "\n",
        "\n",
        "This gives `T5` the broad knowledge of the internet stored in it's weights to answer various `closed book questions` \n",
        "\n",
        "You can answer `closed book question` in 1 line of code, leveraging the latest NLU release and Google's T5.     \n",
        "You need to pass one string to NLU, which starts which a `question` and is followed by  a `context:` tag and then the actual context contents. \n",
        "All it takes is : \n",
        "\n",
        "\n",
        "```python\n",
        "nlu.load('en.t5').predict('Who is president of Nigeria?')\n",
        ">>> Muhammadu Buhari \n",
        "```\n",
        "\n",
        "\n",
        "```python\n",
        "nlu.load('en.t5').predict('What is the most spoken language in India?')\n",
        ">>> Hindi\n",
        "```\n",
        "\n",
        "\n",
        "```python\n",
        "nlu.load('en.t5').predict('What is the capital of Germany?')\n",
        ">>> Berlin\n",
        "```\n",
        "\n"
      ]
    },
    {
      "cell_type": "code",
      "metadata": {
        "id": "s6p3BcAQYeBl"
      },
      "source": [
        "import os\n",
        "! apt-get update -qq > /dev/null   \n",
        "# Install java\n",
        "! apt-get install -y openjdk-8-jdk-headless -qq > /dev/null\n",
        "os.environ[\"JAVA_HOME\"] = \"/usr/lib/jvm/java-8-openjdk-amd64\"\n",
        "os.environ[\"PATH\"] = os.environ[\"JAVA_HOME\"] + \"/bin:\" + os.environ[\"PATH\"]\n",
        "! pip install nlu pyspark==2.4.7 > /dev/null   \n",
        "import nlu\n"
      ],
      "execution_count": null,
      "outputs": []
    },
    {
      "cell_type": "markdown",
      "metadata": {
        "id": "CqI-ovPLjzH7"
      },
      "source": [
        "# Closed book question answering example"
      ]
    },
    {
      "cell_type": "code",
      "metadata": {
        "colab": {
          "base_uri": "https://localhost:8080/"
        },
        "id": "FYZQHT4FYjlQ",
        "outputId": "3df76ae5-b957-4794-ba9d-7f0df4c6d3e1"
      },
      "source": [
        "t5_closed_book = nlu.load('en.t5')"
      ],
      "execution_count": null,
      "outputs": [
        {
          "output_type": "stream",
          "text": [
            "google_t5_small_ssm_nq download started this may take some time.\n",
            "Approximate size to download 139 MB\n",
            "[OK!]\n"
          ],
          "name": "stdout"
        }
      ]
    },
    {
      "cell_type": "code",
      "metadata": {
        "colab": {
          "base_uri": "https://localhost:8080/",
          "height": 110
        },
        "id": "uHK91QxwYn6y",
        "outputId": "fc8e02da-896c-4d5a-fb45-03566fa29ece"
      },
      "source": [
        "t5_closed_book.predict('What is the capital of Germany?')"
      ],
      "execution_count": null,
      "outputs": [
        {
          "output_type": "execute_result",
          "data": {
            "text/html": [
              "<div>\n",
              "<style scoped>\n",
              "    .dataframe tbody tr th:only-of-type {\n",
              "        vertical-align: middle;\n",
              "    }\n",
              "\n",
              "    .dataframe tbody tr th {\n",
              "        vertical-align: top;\n",
              "    }\n",
              "\n",
              "    .dataframe thead th {\n",
              "        text-align: right;\n",
              "    }\n",
              "</style>\n",
              "<table border=\"1\" class=\"dataframe\">\n",
              "  <thead>\n",
              "    <tr style=\"text-align: right;\">\n",
              "      <th></th>\n",
              "      <th>T5</th>\n",
              "      <th>document</th>\n",
              "    </tr>\n",
              "    <tr>\n",
              "      <th>origin_index</th>\n",
              "      <th></th>\n",
              "      <th></th>\n",
              "    </tr>\n",
              "  </thead>\n",
              "  <tbody>\n",
              "    <tr>\n",
              "      <th>0</th>\n",
              "      <td>Berlin</td>\n",
              "      <td>What is the capital of Germany?</td>\n",
              "    </tr>\n",
              "  </tbody>\n",
              "</table>\n",
              "</div>"
            ],
            "text/plain": [
              "                  T5                         document\n",
              "origin_index                                         \n",
              "0             Berlin  What is the capital of Germany?"
            ]
          },
          "metadata": {
            "tags": []
          },
          "execution_count": 3
        }
      ]
    },
    {
      "cell_type": "code",
      "metadata": {
        "colab": {
          "base_uri": "https://localhost:8080/",
          "height": 110
        },
        "id": "4IugHdKcZMTW",
        "outputId": "8c7b840b-8257-479a-fb39-1672fdf7eb42"
      },
      "source": [
        "t5_closed_book.predict('Who is president of Nigeria?')"
      ],
      "execution_count": null,
      "outputs": [
        {
          "output_type": "execute_result",
          "data": {
            "text/html": [
              "<div>\n",
              "<style scoped>\n",
              "    .dataframe tbody tr th:only-of-type {\n",
              "        vertical-align: middle;\n",
              "    }\n",
              "\n",
              "    .dataframe tbody tr th {\n",
              "        vertical-align: top;\n",
              "    }\n",
              "\n",
              "    .dataframe thead th {\n",
              "        text-align: right;\n",
              "    }\n",
              "</style>\n",
              "<table border=\"1\" class=\"dataframe\">\n",
              "  <thead>\n",
              "    <tr style=\"text-align: right;\">\n",
              "      <th></th>\n",
              "      <th>T5</th>\n",
              "      <th>document</th>\n",
              "    </tr>\n",
              "    <tr>\n",
              "      <th>origin_index</th>\n",
              "      <th></th>\n",
              "      <th></th>\n",
              "    </tr>\n",
              "  </thead>\n",
              "  <tbody>\n",
              "    <tr>\n",
              "      <th>0</th>\n",
              "      <td>Muhammadu Buhari</td>\n",
              "      <td>Who is president of Nigeria?</td>\n",
              "    </tr>\n",
              "  </tbody>\n",
              "</table>\n",
              "</div>"
            ],
            "text/plain": [
              "                            T5                      document\n",
              "origin_index                                                \n",
              "0             Muhammadu Buhari  Who is president of Nigeria?"
            ]
          },
          "metadata": {
            "tags": []
          },
          "execution_count": 4
        }
      ]
    },
    {
      "cell_type": "code",
      "metadata": {
        "colab": {
          "base_uri": "https://localhost:8080/",
          "height": 110
        },
        "id": "dZfMDsyXqvZ0",
        "outputId": "b52ae438-ca73-48ad-9508-ccaeede55109"
      },
      "source": [
        "t5_closed_book.predict('What is the most spoken language in India?')\n"
      ],
      "execution_count": null,
      "outputs": [
        {
          "output_type": "execute_result",
          "data": {
            "text/html": [
              "<div>\n",
              "<style scoped>\n",
              "    .dataframe tbody tr th:only-of-type {\n",
              "        vertical-align: middle;\n",
              "    }\n",
              "\n",
              "    .dataframe tbody tr th {\n",
              "        vertical-align: top;\n",
              "    }\n",
              "\n",
              "    .dataframe thead th {\n",
              "        text-align: right;\n",
              "    }\n",
              "</style>\n",
              "<table border=\"1\" class=\"dataframe\">\n",
              "  <thead>\n",
              "    <tr style=\"text-align: right;\">\n",
              "      <th></th>\n",
              "      <th>T5</th>\n",
              "      <th>document</th>\n",
              "    </tr>\n",
              "    <tr>\n",
              "      <th>origin_index</th>\n",
              "      <th></th>\n",
              "      <th></th>\n",
              "    </tr>\n",
              "  </thead>\n",
              "  <tbody>\n",
              "    <tr>\n",
              "      <th>0</th>\n",
              "      <td>Hindi</td>\n",
              "      <td>What is the most spoken language in India?</td>\n",
              "    </tr>\n",
              "  </tbody>\n",
              "</table>\n",
              "</div>"
            ],
            "text/plain": [
              "                 T5                                    document\n",
              "origin_index                                                   \n",
              "0             Hindi  What is the most spoken language in India?"
            ]
          },
          "metadata": {
            "tags": []
          },
          "execution_count": 5
        }
      ]
    },
    {
      "cell_type": "markdown",
      "metadata": {
        "id": "3Bu-Beo7ZNps"
      },
      "source": [
        "# Open Book question examples\n",
        "\n",
        "**Your context must be prefixed with `context:`**\n"
      ]
    },
    {
      "cell_type": "code",
      "metadata": {
        "colab": {
          "base_uri": "https://localhost:8080/"
        },
        "id": "886fxf0iZO5A",
        "outputId": "952a364c-5084-4b26-a733-6a7720fecd58"
      },
      "source": [
        "t5_open_book = nlu.load('answer_question')\n"
      ],
      "execution_count": null,
      "outputs": [
        {
          "output_type": "stream",
          "text": [
            "t5_base download started this may take some time.\n",
            "Approximate size to download 446 MB\n",
            "[OK!]\n"
          ],
          "name": "stdout"
        }
      ]
    },
    {
      "cell_type": "code",
      "metadata": {
        "colab": {
          "base_uri": "https://localhost:8080/",
          "height": 110
        },
        "id": "5koR8GOOZqUN",
        "outputId": "7c5d247d-a01d-48bc-d0ef-b8187c6c5d51"
      },
      "source": [
        "t5_open_book.predict(\"\"\"Where did Jebe die?\n",
        "context: Ghenkis Khan recalled Subtai back to Mongolia soon afterwards, and Jebe died on the road back to Samarkand\"\"\"                     )"
      ],
      "execution_count": null,
      "outputs": [
        {
          "output_type": "execute_result",
          "data": {
            "text/html": [
              "<div>\n",
              "<style scoped>\n",
              "    .dataframe tbody tr th:only-of-type {\n",
              "        vertical-align: middle;\n",
              "    }\n",
              "\n",
              "    .dataframe tbody tr th {\n",
              "        vertical-align: top;\n",
              "    }\n",
              "\n",
              "    .dataframe thead th {\n",
              "        text-align: right;\n",
              "    }\n",
              "</style>\n",
              "<table border=\"1\" class=\"dataframe\">\n",
              "  <thead>\n",
              "    <tr style=\"text-align: right;\">\n",
              "      <th></th>\n",
              "      <th>T5</th>\n",
              "      <th>document</th>\n",
              "    </tr>\n",
              "    <tr>\n",
              "      <th>origin_index</th>\n",
              "      <th></th>\n",
              "      <th></th>\n",
              "    </tr>\n",
              "  </thead>\n",
              "  <tbody>\n",
              "    <tr>\n",
              "      <th>0</th>\n",
              "      <td>Samarkand</td>\n",
              "      <td>Where did Jebe die? context: Ghenkis Khan reca...</td>\n",
              "    </tr>\n",
              "  </tbody>\n",
              "</table>\n",
              "</div>"
            ],
            "text/plain": [
              "                     T5                                           document\n",
              "origin_index                                                              \n",
              "0             Samarkand  Where did Jebe die? context: Ghenkis Khan reca..."
            ]
          },
          "metadata": {
            "tags": []
          },
          "execution_count": 7
        }
      ]
    },
    {
      "cell_type": "markdown",
      "metadata": {
        "id": "PM2NCOTnjSY8"
      },
      "source": [
        "## Open Book question example on a Story"
      ]
    },
    {
      "cell_type": "code",
      "metadata": {
        "colab": {
          "base_uri": "https://localhost:8080/",
          "height": 141
        },
        "id": "b8LZV-DjaejR",
        "outputId": "fad9ddc0-4689-4d5c-84a4-655ae679b3a0"
      },
      "source": [
        "question1 = 'What does Jimmy like to eat for breakfast usually?'\n",
        "question2 = 'Why was Jimmy suprised?'\n",
        "\n",
        "story = \"\"\" context:\n",
        "Once upon a time, there was a squirrel named Joey.\n",
        "Joey loved to go outside and play with his cousin Jimmy.\n",
        "Joey and Jimmy played silly games together, and were always laughing.\n",
        "One day, Joey and Jimmy went swimming together 50 at their Aunt Julie’s pond.\n",
        "Joey woke up early in the morning to eat some food before they left.\n",
        "He couldn’t find anything to eat except for pie!\n",
        "Usually, Joey would eat cereal, fruit (a pear), or oatmeal for breakfast.\n",
        "After he ate, he and Jimmy went to the pond.\n",
        "On their way there they saw their friend Jack Rabbit.\n",
        "They dove into the water and swam for several hours.\n",
        "The sun was out, but the breeze was cold.\n",
        "Joey and Jimmy got out of the water and started walking home.\n",
        "Their fur was wet, and the breeze chilled them.\n",
        "When they got home, they dried off, and Jimmy put on his favorite purple shirt.\n",
        "Joey put on a blue shirt with red and green dots.\n",
        "The two squirrels ate some food that Joey’s mom, Jasmine, made and went off to bed.\n",
        " \"\"\"\n",
        "questions = [\n",
        "             question1+ story,\n",
        "             question2+ story,]\n",
        "t5_open_book.predict(questions)\n"
      ],
      "execution_count": null,
      "outputs": [
        {
          "output_type": "execute_result",
          "data": {
            "text/html": [
              "<div>\n",
              "<style scoped>\n",
              "    .dataframe tbody tr th:only-of-type {\n",
              "        vertical-align: middle;\n",
              "    }\n",
              "\n",
              "    .dataframe tbody tr th {\n",
              "        vertical-align: top;\n",
              "    }\n",
              "\n",
              "    .dataframe thead th {\n",
              "        text-align: right;\n",
              "    }\n",
              "</style>\n",
              "<table border=\"1\" class=\"dataframe\">\n",
              "  <thead>\n",
              "    <tr style=\"text-align: right;\">\n",
              "      <th></th>\n",
              "      <th>T5</th>\n",
              "      <th>document</th>\n",
              "    </tr>\n",
              "    <tr>\n",
              "      <th>origin_index</th>\n",
              "      <th></th>\n",
              "      <th></th>\n",
              "    </tr>\n",
              "  </thead>\n",
              "  <tbody>\n",
              "    <tr>\n",
              "      <th>0</th>\n",
              "      <td>cereal, fruit (a pear), or oatmeal</td>\n",
              "      <td>What does Jimmy like to eat for breakfast usua...</td>\n",
              "    </tr>\n",
              "    <tr>\n",
              "      <th>1</th>\n",
              "      <td>He couldn’t find anything to eat except for pie</td>\n",
              "      <td>Why was Jimmy suprised? context: Once upon a t...</td>\n",
              "    </tr>\n",
              "  </tbody>\n",
              "</table>\n",
              "</div>"
            ],
            "text/plain": [
              "                                                           T5                                           document\n",
              "origin_index                                                                                                    \n",
              "0                          cereal, fruit (a pear), or oatmeal  What does Jimmy like to eat for breakfast usua...\n",
              "1             He couldn’t find anything to eat except for pie  Why was Jimmy suprised? context: Once upon a t..."
            ]
          },
          "metadata": {
            "tags": []
          },
          "execution_count": 8
        }
      ]
    },
    {
      "cell_type": "markdown",
      "metadata": {
        "id": "-OlZcBoGjPTS"
      },
      "source": [
        "## Open book question example on news article"
      ]
    },
    {
      "cell_type": "code",
      "metadata": {
        "id": "JSSQz8jxa4Bg",
        "colab": {
          "base_uri": "https://localhost:8080/",
          "height": 264
        },
        "outputId": "d4a411e0-2d19-4241-8e73-374560062a1e"
      },
      "source": [
        "question1 = 'Who is Jack ma?'\n",
        "question2 = 'Who is founder of Alibaba Group?'\n",
        "question3 = 'When did Jack Ma re-appear?'\n",
        "question4 = 'How did Alibaba stocks react?'\n",
        "question5 = 'Whom did Jack Ma meet?'\n",
        "question6 = 'Who did Jack Ma hide from?'\n",
        "\n",
        "\n",
        "# from https://www.bbc.com/news/business-55728338 \n",
        "news_article_snippet = \"\"\" context:\n",
        "Alibaba Group founder Jack Ma has made his first appearance since Chinese regulators cracked down on his business empire.\n",
        "His absence had fuelled speculation over his whereabouts amid increasing official scrutiny of his businesses.\n",
        "The billionaire met 100 rural teachers in China via a video meeting on Wednesday, according to local government media.\n",
        "Alibaba shares surged 5% on Hong Kong's stock exchange on the news.\n",
        "\"\"\"\n",
        "\n",
        "questions = [\n",
        "             question1+ news_article_snippet,\n",
        "             question2+ news_article_snippet,\n",
        "             question3+ news_article_snippet,\n",
        "             question4+ news_article_snippet,\n",
        "             question5+ news_article_snippet,\n",
        "             question6+ news_article_snippet,]\n",
        "\n",
        "\n",
        "\n",
        "t5_open_book.predict(questions)\n"
      ],
      "execution_count": null,
      "outputs": [
        {
          "output_type": "execute_result",
          "data": {
            "text/html": [
              "<div>\n",
              "<style scoped>\n",
              "    .dataframe tbody tr th:only-of-type {\n",
              "        vertical-align: middle;\n",
              "    }\n",
              "\n",
              "    .dataframe tbody tr th {\n",
              "        vertical-align: top;\n",
              "    }\n",
              "\n",
              "    .dataframe thead th {\n",
              "        text-align: right;\n",
              "    }\n",
              "</style>\n",
              "<table border=\"1\" class=\"dataframe\">\n",
              "  <thead>\n",
              "    <tr style=\"text-align: right;\">\n",
              "      <th></th>\n",
              "      <th>T5</th>\n",
              "      <th>document</th>\n",
              "    </tr>\n",
              "    <tr>\n",
              "      <th>origin_index</th>\n",
              "      <th></th>\n",
              "      <th></th>\n",
              "    </tr>\n",
              "  </thead>\n",
              "  <tbody>\n",
              "    <tr>\n",
              "      <th>0</th>\n",
              "      <td>Alibaba Group founder</td>\n",
              "      <td>Who is Jack ma? context: Alibaba Group founder...</td>\n",
              "    </tr>\n",
              "    <tr>\n",
              "      <th>1</th>\n",
              "      <td>Jack Ma</td>\n",
              "      <td>Who is founder of Alibaba Group? context: Alib...</td>\n",
              "    </tr>\n",
              "    <tr>\n",
              "      <th>2</th>\n",
              "      <td>Wednesday</td>\n",
              "      <td>When did Jack Ma re-appear? context: Alibaba G...</td>\n",
              "    </tr>\n",
              "    <tr>\n",
              "      <th>3</th>\n",
              "      <td>surged 5%</td>\n",
              "      <td>How did Alibaba stocks react? context: Alibaba...</td>\n",
              "    </tr>\n",
              "    <tr>\n",
              "      <th>4</th>\n",
              "      <td>100 rural teachers</td>\n",
              "      <td>Whom did Jack Ma meet? context: Alibaba Group ...</td>\n",
              "    </tr>\n",
              "    <tr>\n",
              "      <th>5</th>\n",
              "      <td>Chinese regulators</td>\n",
              "      <td>Who did Jack Ma hide from? context: Alibaba Gr...</td>\n",
              "    </tr>\n",
              "  </tbody>\n",
              "</table>\n",
              "</div>"
            ],
            "text/plain": [
              "                                 T5                                           document\n",
              "origin_index                                                                          \n",
              "0             Alibaba Group founder  Who is Jack ma? context: Alibaba Group founder...\n",
              "1                           Jack Ma  Who is founder of Alibaba Group? context: Alib...\n",
              "2                         Wednesday  When did Jack Ma re-appear? context: Alibaba G...\n",
              "3                         surged 5%  How did Alibaba stocks react? context: Alibaba...\n",
              "4                100 rural teachers  Whom did Jack Ma meet? context: Alibaba Group ...\n",
              "5                Chinese regulators  Who did Jack Ma hide from? context: Alibaba Gr..."
            ]
          },
          "metadata": {
            "tags": []
          },
          "execution_count": 9
        }
      ]
    },
    {
      "cell_type": "code",
      "metadata": {
        "colab": {
          "base_uri": "https://localhost:8080/",
          "height": 110
        },
        "id": "vlpHM1m8ixDL",
        "outputId": "e6b99265-a096-47cf-df4d-0d490a0a0ebf"
      },
      "source": [
        "\n",
        "\n",
        "# define Data, add additional context tag between sentence\n",
        "question ='''\n",
        "What does increased oxygen concentrations in the patient’s lungs displace? \n",
        "context: Hyperbaric (high-pressure) medicine uses special oxygen chambers to increase the partial pressure of O 2 around the patient and, when needed, the medical staff. Carbon monoxide poisoning, gas gangrene, and decompression sickness (the ’bends’) are sometimes treated using these devices. Increased O 2 concentration in the lungs helps to displace carbon monoxide from the heme group of hemoglobin. Oxygen gas is poisonous to the anaerobic bacteria that cause gas gangrene, so increasing its partial pressure helps kill them. Decompression sickness occurs in divers who decompress too quickly after a dive, resulting in bubbles of inert gas, mostly nitrogen and helium, forming in their blood. Increasing the pressure of O 2 as soon as possible is part of the treatment.\n",
        "'''\n",
        "\n",
        "\n",
        "#Predict on text data with T5\n",
        "t5_open_book.predict(question)"
      ],
      "execution_count": null,
      "outputs": [
        {
          "output_type": "execute_result",
          "data": {
            "text/html": [
              "<div>\n",
              "<style scoped>\n",
              "    .dataframe tbody tr th:only-of-type {\n",
              "        vertical-align: middle;\n",
              "    }\n",
              "\n",
              "    .dataframe tbody tr th {\n",
              "        vertical-align: top;\n",
              "    }\n",
              "\n",
              "    .dataframe thead th {\n",
              "        text-align: right;\n",
              "    }\n",
              "</style>\n",
              "<table border=\"1\" class=\"dataframe\">\n",
              "  <thead>\n",
              "    <tr style=\"text-align: right;\">\n",
              "      <th></th>\n",
              "      <th>T5</th>\n",
              "      <th>document</th>\n",
              "    </tr>\n",
              "    <tr>\n",
              "      <th>origin_index</th>\n",
              "      <th></th>\n",
              "      <th></th>\n",
              "    </tr>\n",
              "  </thead>\n",
              "  <tbody>\n",
              "    <tr>\n",
              "      <th>0</th>\n",
              "      <td>carbon monoxide</td>\n",
              "      <td>What does increased oxygen concentrations in t...</td>\n",
              "    </tr>\n",
              "  </tbody>\n",
              "</table>\n",
              "</div>"
            ],
            "text/plain": [
              "                           T5                                           document\n",
              "origin_index                                                                    \n",
              "0             carbon monoxide  What does increased oxygen concentrations in t..."
            ]
          },
          "metadata": {
            "tags": []
          },
          "execution_count": 10
        }
      ]
    },
    {
      "cell_type": "code",
      "metadata": {
        "id": "-DRunqWhs6QN"
      },
      "source": [
        ""
      ],
      "execution_count": null,
      "outputs": []
    }
  ]
}