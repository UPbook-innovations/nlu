{
  "nbformat": 4,
  "nbformat_minor": 0,
  "metadata": {
    "colab": {
      "name": "translation_demo.ipynb",
      "provenance": [],
      "collapsed_sections": []
    },
    "kernelspec": {
      "name": "python3",
      "display_name": "Python 3"
    }
  },
  "cells": [
    {
      "cell_type": "markdown",
      "metadata": {
        "id": "5hueV5WBrCzf"
      },
      "source": [
        "![JohnSnowLabs](https://nlp.johnsnowlabs.com/assets/images/logo.png)\n",
        "\n",
        "\n",
        "\n",
        "[![Open In Colab](https://colab.research.google.com/assets/colab-badge.svg)](https://colab.research.google.com/github/JohnSnowLabs/nlu/blob/master/examples/colab/component_examples/sequence2sequence/translation_demo.ipynb)\n",
        "\n",
        " \n",
        " # Translate between more than 600 Languages in 1 line of code with the [Marian Models](https://marian-nmt.github.io/publications/)\n",
        "\n",
        " Marian is an efficient, free Neural Machine Translation framework mainly being developed by the Microsoft Translator team (646+ pretrained models & pipelines in 192+ languages)\n",
        "You need to specify the language your data is in as `start_language` and the language you want to translate to as `target_language`.    \n",
        " The language references must be [ISO language codes](https://en.wikipedia.org/wiki/List_of_ISO_639-1_codes)\n",
        "\n",
        "`nlu.load('<start_language>.translate.<target_language>')`       \n",
        "\n",
        "**Translate Turkish to English:**     \n",
        "`nlu.load('tr.translate_to.fr')`\n",
        "\n",
        "**Translate English to French:**     \n",
        "`nlu.load('en.translate_to.fr')`\n",
        "\n",
        "\n",
        "**Translate French to Hebrew:**     \n",
        "`nlu.load('en.translate_to.fr')`\n"
      ]
    },
    {
      "cell_type": "code",
      "metadata": {
        "id": "abuB9K1_QVuL"
      },
      "source": [
        "import os\n",
        "! apt-get update -qq > /dev/null   \n",
        "# Install java\n",
        "! apt-get install -y openjdk-8-jdk-headless -qq > /dev/null\n",
        "os.environ[\"JAVA_HOME\"] = \"/usr/lib/jvm/java-8-openjdk-amd64\"\n",
        "os.environ[\"PATH\"] = os.environ[\"JAVA_HOME\"] + \"/bin:\" + os.environ[\"PATH\"]\n",
        "! pip install nlu pyspark==2.4.7\n",
        "import nlu\n"
      ],
      "execution_count": null,
      "outputs": []
    },
    {
      "cell_type": "code",
      "metadata": {
        "colab": {
          "base_uri": "https://localhost:8080/"
        },
        "id": "5ugeWRVe0Pcc",
        "outputId": "8e851e17-ec96-4854-92b6-d940b32ce823"
      },
      "source": [
        "# Download bitcoin newsarticles\n",
        "import pandas as pd\n",
        "!wget http://ckl-it.de/wp-content/uploads/2020/12/small_btc.csv \n",
        "df = pd.read_csv('/content/small_btc.csv')"
      ],
      "execution_count": null,
      "outputs": [
        {
          "output_type": "stream",
          "text": [
            "--2021-01-18 06:17:12--  http://ckl-it.de/wp-content/uploads/2020/12/small_btc.csv\n",
            "Resolving ckl-it.de (ckl-it.de)... 217.160.0.108, 2001:8d8:100f:f000::209\n",
            "Connecting to ckl-it.de (ckl-it.de)|217.160.0.108|:80... connected.\n",
            "HTTP request sent, awaiting response... 200 OK\n",
            "Length: 22244914 (21M) [text/csv]\n",
            "Saving to: ‘small_btc.csv.1’\n",
            "\n",
            "small_btc.csv.1     100%[===================>]  21.21M  6.04MB/s    in 3.5s    \n",
            "\n",
            "2021-01-18 06:17:15 (6.04 MB/s) - ‘small_btc.csv.1’ saved [22244914/22244914]\n",
            "\n"
          ],
          "name": "stdout"
        }
      ]
    },
    {
      "cell_type": "markdown",
      "metadata": {
        "id": "xMnjlxA1V16o"
      },
      "source": [
        "# Translate English movie Titles to German"
      ]
    },
    {
      "cell_type": "code",
      "metadata": {
        "colab": {
          "base_uri": "https://localhost:8080/",
          "height": 431
        },
        "id": "ht0z7aiSVcIN",
        "outputId": "5dfe10b9-9da9-4675-faaa-d58d4c87c65d"
      },
      "source": [
        "\n",
        "translate_pipe = nlu.load('en.translate_to.de')\n",
        "de_df = translate_pipe.predict(df.title.iloc[:10])\n",
        "de_df\n"
      ],
      "execution_count": null,
      "outputs": [
        {
          "output_type": "stream",
          "text": [
            "translate_en_de download started this may take some time.\n",
            "Approx size to download 370.2 MB\n",
            "[OK!]\n"
          ],
          "name": "stdout"
        },
        {
          "output_type": "execute_result",
          "data": {
            "text/html": [
              "<div>\n",
              "<style scoped>\n",
              "    .dataframe tbody tr th:only-of-type {\n",
              "        vertical-align: middle;\n",
              "    }\n",
              "\n",
              "    .dataframe tbody tr th {\n",
              "        vertical-align: top;\n",
              "    }\n",
              "\n",
              "    .dataframe thead th {\n",
              "        text-align: right;\n",
              "    }\n",
              "</style>\n",
              "<table border=\"1\" class=\"dataframe\">\n",
              "  <thead>\n",
              "    <tr style=\"text-align: right;\">\n",
              "      <th></th>\n",
              "      <th>sentence</th>\n",
              "      <th>text</th>\n",
              "      <th>translation</th>\n",
              "      <th>title</th>\n",
              "    </tr>\n",
              "    <tr>\n",
              "      <th>origin_index</th>\n",
              "      <th></th>\n",
              "      <th></th>\n",
              "      <th></th>\n",
              "      <th></th>\n",
              "    </tr>\n",
              "  </thead>\n",
              "  <tbody>\n",
              "    <tr>\n",
              "      <th>0</th>\n",
              "      <td>Bitcoin Price Update: Will China Lead us Down?</td>\n",
              "      <td>Bitcoin Price Update: Will China Lead us Down?</td>\n",
              "      <td>Bitcoin Price Update: Wird China führen uns na...</td>\n",
              "      <td>Bitcoin Price Update: Will China Lead us Down?</td>\n",
              "    </tr>\n",
              "    <tr>\n",
              "      <th>1</th>\n",
              "      <td>Key Bitcoin Price Levels for Week 51 (15 – 22 ...</td>\n",
              "      <td>Key Bitcoin Price Levels for Week 51 (15 – 22 ...</td>\n",
              "      <td>Preisniveaus für Bitcoin Woche 51 (15 bis 22 Dez)</td>\n",
              "      <td>Key Bitcoin Price Levels for Week 51 (15 – 22 ...</td>\n",
              "    </tr>\n",
              "    <tr>\n",
              "      <th>2</th>\n",
              "      <td>National Australia Bank, Citing Highly Flawed ...</td>\n",
              "      <td>National Australia Bank, Citing Highly Flawed ...</td>\n",
              "      <td>Die National Australia Bank, die sehr abgeflac...</td>\n",
              "      <td>National Australia Bank, Citing Highly Flawed ...</td>\n",
              "    </tr>\n",
              "    <tr>\n",
              "      <th>3</th>\n",
              "      <td>Chinese Bitcoin Ban Driven by  Chinese Banking...</td>\n",
              "      <td>Chinese Bitcoin Ban Driven by  Chinese Banking...</td>\n",
              "      <td>Chinesische Bitcoin Bannkrise?</td>\n",
              "      <td>Chinese Bitcoin Ban Driven by  Chinese Banking...</td>\n",
              "    </tr>\n",
              "    <tr>\n",
              "      <th>4</th>\n",
              "      <td>Bitcoin Trade Update: Opened Position</td>\n",
              "      <td>Bitcoin Trade Update: Opened Position</td>\n",
              "      <td>Bitcoin Trade Update: Geöffnete Position</td>\n",
              "      <td>Bitcoin Trade Update: Opened Position</td>\n",
              "    </tr>\n",
              "    <tr>\n",
              "      <th>5</th>\n",
              "      <td>Key Bitcoin Price Levels for Week 52 (22 – 28 ...</td>\n",
              "      <td>Key Bitcoin Price Levels for Week 52 (22 – 28 ...</td>\n",
              "      <td>Key Bitcoin Price Levels für Woche 52 (22 28 D...</td>\n",
              "      <td>Key Bitcoin Price Levels for Week 52 (22 – 28 ...</td>\n",
              "    </tr>\n",
              "    <tr>\n",
              "      <th>6</th>\n",
              "      <td>Bitcoin Survival</td>\n",
              "      <td>Bitcoin Survival</td>\n",
              "      <td>Bitcoin Überleben</td>\n",
              "      <td>Bitcoin Survival</td>\n",
              "    </tr>\n",
              "    <tr>\n",
              "      <th>7</th>\n",
              "      <td>Massive Bitcoin Sell Going On</td>\n",
              "      <td>Massive Bitcoin Sell Going On</td>\n",
              "      <td>Massive Bitcoin verkaufen verkaufen verkaufen,...</td>\n",
              "      <td>Massive Bitcoin Sell Going On</td>\n",
              "    </tr>\n",
              "    <tr>\n",
              "      <th>8</th>\n",
              "      <td>Why Bitcoin will rise on Monday 23rd by more t...</td>\n",
              "      <td>Why Bitcoin will rise on Monday 23rd by more t...</td>\n",
              "      <td>Warum Bitcoin am Montag um mehr als 10% steige...</td>\n",
              "      <td>Why Bitcoin will rise on Monday 23rd by more t...</td>\n",
              "    </tr>\n",
              "    <tr>\n",
              "      <th>9</th>\n",
              "      <td>Why Bitcoin is falling, and will rise again</td>\n",
              "      <td>Why Bitcoin is falling, and will rise again</td>\n",
              "      <td>Warum Bitcoin fällt und wieder steigen wird</td>\n",
              "      <td>Why Bitcoin is falling, and will rise again</td>\n",
              "    </tr>\n",
              "  </tbody>\n",
              "</table>\n",
              "</div>"
            ],
            "text/plain": [
              "                                                       sentence  ...                                              title\n",
              "origin_index                                                     ...                                                   \n",
              "0                Bitcoin Price Update: Will China Lead us Down?  ...     Bitcoin Price Update: Will China Lead us Down?\n",
              "1             Key Bitcoin Price Levels for Week 51 (15 – 22 ...  ...  Key Bitcoin Price Levels for Week 51 (15 – 22 ...\n",
              "2             National Australia Bank, Citing Highly Flawed ...  ...  National Australia Bank, Citing Highly Flawed ...\n",
              "3             Chinese Bitcoin Ban Driven by  Chinese Banking...  ...  Chinese Bitcoin Ban Driven by  Chinese Banking...\n",
              "4                         Bitcoin Trade Update: Opened Position  ...              Bitcoin Trade Update: Opened Position\n",
              "5             Key Bitcoin Price Levels for Week 52 (22 – 28 ...  ...  Key Bitcoin Price Levels for Week 52 (22 – 28 ...\n",
              "6                                              Bitcoin Survival  ...                                   Bitcoin Survival\n",
              "7                                 Massive Bitcoin Sell Going On  ...                      Massive Bitcoin Sell Going On\n",
              "8             Why Bitcoin will rise on Monday 23rd by more t...  ...  Why Bitcoin will rise on Monday 23rd by more t...\n",
              "9                   Why Bitcoin is falling, and will rise again  ...        Why Bitcoin is falling, and will rise again\n",
              "\n",
              "[10 rows x 4 columns]"
            ]
          },
          "metadata": {
            "tags": []
          },
          "execution_count": 9
        }
      ]
    },
    {
      "cell_type": "markdown",
      "metadata": {
        "id": "LbxlhONgD7ph"
      },
      "source": [
        "# Translate English to French"
      ]
    },
    {
      "cell_type": "code",
      "metadata": {
        "id": "ycAKvrDZIckC"
      },
      "source": [
        ""
      ],
      "execution_count": null,
      "outputs": []
    },
    {
      "cell_type": "code",
      "metadata": {
        "id": "2gKhAsr0IcyN"
      },
      "source": [
        ""
      ],
      "execution_count": null,
      "outputs": []
    },
    {
      "cell_type": "code",
      "metadata": {
        "id": "vvQ3UzDIhRz3",
        "colab": {
          "base_uri": "https://localhost:8080/",
          "height": 431
        },
        "outputId": "6de02eea-58e4-4da3-9898-eca3e267d7bd"
      },
      "source": [
        "translate_pipe = nlu.load('en.translate_to.fr')\n",
        "tr_df = translate_pipe.predict(df.title.iloc[:10])\n",
        "tr_df\n"
      ],
      "execution_count": null,
      "outputs": [
        {
          "output_type": "stream",
          "text": [
            "translate_en_fr download started this may take some time.\n",
            "Approx size to download 376 MB\n",
            "[OK!]\n"
          ],
          "name": "stdout"
        },
        {
          "output_type": "execute_result",
          "data": {
            "text/html": [
              "<div>\n",
              "<style scoped>\n",
              "    .dataframe tbody tr th:only-of-type {\n",
              "        vertical-align: middle;\n",
              "    }\n",
              "\n",
              "    .dataframe tbody tr th {\n",
              "        vertical-align: top;\n",
              "    }\n",
              "\n",
              "    .dataframe thead th {\n",
              "        text-align: right;\n",
              "    }\n",
              "</style>\n",
              "<table border=\"1\" class=\"dataframe\">\n",
              "  <thead>\n",
              "    <tr style=\"text-align: right;\">\n",
              "      <th></th>\n",
              "      <th>sentence</th>\n",
              "      <th>text</th>\n",
              "      <th>translation</th>\n",
              "      <th>title</th>\n",
              "    </tr>\n",
              "    <tr>\n",
              "      <th>origin_index</th>\n",
              "      <th></th>\n",
              "      <th></th>\n",
              "      <th></th>\n",
              "      <th></th>\n",
              "    </tr>\n",
              "  </thead>\n",
              "  <tbody>\n",
              "    <tr>\n",
              "      <th>0</th>\n",
              "      <td>Bitcoin Price Update: Will China Lead us Down?</td>\n",
              "      <td>Bitcoin Price Update: Will China Lead us Down?</td>\n",
              "      <td>Bitcoin Mise à jour de prix: La Chine nous mèn...</td>\n",
              "      <td>Bitcoin Price Update: Will China Lead us Down?</td>\n",
              "    </tr>\n",
              "    <tr>\n",
              "      <th>1</th>\n",
              "      <td>Key Bitcoin Price Levels for Week 51 (15 – 22 ...</td>\n",
              "      <td>Key Bitcoin Price Levels for Week 51 (15 – 22 ...</td>\n",
              "      <td>Niveaux de prix Bitcoin clés pour la semaine 5...</td>\n",
              "      <td>Key Bitcoin Price Levels for Week 51 (15 – 22 ...</td>\n",
              "    </tr>\n",
              "    <tr>\n",
              "      <th>2</th>\n",
              "      <td>National Australia Bank, Citing Highly Flawed ...</td>\n",
              "      <td>National Australia Bank, Citing Highly Flawed ...</td>\n",
              "      <td>Banque nationale d'Australie, Citation de donn...</td>\n",
              "      <td>National Australia Bank, Citing Highly Flawed ...</td>\n",
              "    </tr>\n",
              "    <tr>\n",
              "      <th>3</th>\n",
              "      <td>Chinese Bitcoin Ban Driven by  Chinese Banking...</td>\n",
              "      <td>Chinese Bitcoin Ban Driven by  Chinese Banking...</td>\n",
              "      <td>L'interdiction Bitcoin chinois par la crise ba...</td>\n",
              "      <td>Chinese Bitcoin Ban Driven by  Chinese Banking...</td>\n",
              "    </tr>\n",
              "    <tr>\n",
              "      <th>4</th>\n",
              "      <td>Bitcoin Trade Update: Opened Position</td>\n",
              "      <td>Bitcoin Trade Update: Opened Position</td>\n",
              "      <td>Bitcoin Trade Update: position ouverte</td>\n",
              "      <td>Bitcoin Trade Update: Opened Position</td>\n",
              "    </tr>\n",
              "    <tr>\n",
              "      <th>5</th>\n",
              "      <td>Key Bitcoin Price Levels for Week 52 (22 – 28 ...</td>\n",
              "      <td>Key Bitcoin Price Levels for Week 52 (22 – 28 ...</td>\n",
              "      <td>Niveaux de prix Bitcoin clés pour la semaine 5...</td>\n",
              "      <td>Key Bitcoin Price Levels for Week 52 (22 – 28 ...</td>\n",
              "    </tr>\n",
              "    <tr>\n",
              "      <th>6</th>\n",
              "      <td>Bitcoin Survival</td>\n",
              "      <td>Bitcoin Survival</td>\n",
              "      <td>Survie des Bitcoins</td>\n",
              "      <td>Bitcoin Survival</td>\n",
              "    </tr>\n",
              "    <tr>\n",
              "      <th>7</th>\n",
              "      <td>Massive Bitcoin Sell Going On</td>\n",
              "      <td>Massive Bitcoin Sell Going On</td>\n",
              "      <td>Vente massive de Bitcoin</td>\n",
              "      <td>Massive Bitcoin Sell Going On</td>\n",
              "    </tr>\n",
              "    <tr>\n",
              "      <th>8</th>\n",
              "      <td>Why Bitcoin will rise on Monday 23rd by more t...</td>\n",
              "      <td>Why Bitcoin will rise on Monday 23rd by more t...</td>\n",
              "      <td>Pourquoi Bitcoin montera le lundi 23ème de plu...</td>\n",
              "      <td>Why Bitcoin will rise on Monday 23rd by more t...</td>\n",
              "    </tr>\n",
              "    <tr>\n",
              "      <th>9</th>\n",
              "      <td>Why Bitcoin is falling, and will rise again</td>\n",
              "      <td>Why Bitcoin is falling, and will rise again</td>\n",
              "      <td>Pourquoi Bitcoin est en baisse, et va monter à...</td>\n",
              "      <td>Why Bitcoin is falling, and will rise again</td>\n",
              "    </tr>\n",
              "  </tbody>\n",
              "</table>\n",
              "</div>"
            ],
            "text/plain": [
              "                                                       sentence  ...                                              title\n",
              "origin_index                                                     ...                                                   \n",
              "0                Bitcoin Price Update: Will China Lead us Down?  ...     Bitcoin Price Update: Will China Lead us Down?\n",
              "1             Key Bitcoin Price Levels for Week 51 (15 – 22 ...  ...  Key Bitcoin Price Levels for Week 51 (15 – 22 ...\n",
              "2             National Australia Bank, Citing Highly Flawed ...  ...  National Australia Bank, Citing Highly Flawed ...\n",
              "3             Chinese Bitcoin Ban Driven by  Chinese Banking...  ...  Chinese Bitcoin Ban Driven by  Chinese Banking...\n",
              "4                         Bitcoin Trade Update: Opened Position  ...              Bitcoin Trade Update: Opened Position\n",
              "5             Key Bitcoin Price Levels for Week 52 (22 – 28 ...  ...  Key Bitcoin Price Levels for Week 52 (22 – 28 ...\n",
              "6                                              Bitcoin Survival  ...                                   Bitcoin Survival\n",
              "7                                 Massive Bitcoin Sell Going On  ...                      Massive Bitcoin Sell Going On\n",
              "8             Why Bitcoin will rise on Monday 23rd by more t...  ...  Why Bitcoin will rise on Monday 23rd by more t...\n",
              "9                   Why Bitcoin is falling, and will rise again  ...        Why Bitcoin is falling, and will rise again\n",
              "\n",
              "[10 rows x 4 columns]"
            ]
          },
          "metadata": {
            "tags": []
          },
          "execution_count": 10
        }
      ]
    },
    {
      "cell_type": "markdown",
      "metadata": {
        "id": "it3tWEkmD-1f"
      },
      "source": [
        "# Translate English to Hebrew"
      ]
    },
    {
      "cell_type": "code",
      "metadata": {
        "id": "j20Ci-ScdkZe",
        "colab": {
          "base_uri": "https://localhost:8080/",
          "height": 431
        },
        "outputId": "bd5dc4c1-e6e7-4fb9-a233-23d9486e0193"
      },
      "source": [
        "translate_pipe = nlu.load('en.translate_to.he')\n",
        "tr_df = translate_pipe.predict(df.title.iloc[:10])\n",
        "tr_df\n"
      ],
      "execution_count": null,
      "outputs": [
        {
          "output_type": "stream",
          "text": [
            "translate_en_he download started this may take some time.\n",
            "Approx size to download 399.3 MB\n",
            "[OK!]\n"
          ],
          "name": "stdout"
        },
        {
          "output_type": "execute_result",
          "data": {
            "text/html": [
              "<div>\n",
              "<style scoped>\n",
              "    .dataframe tbody tr th:only-of-type {\n",
              "        vertical-align: middle;\n",
              "    }\n",
              "\n",
              "    .dataframe tbody tr th {\n",
              "        vertical-align: top;\n",
              "    }\n",
              "\n",
              "    .dataframe thead th {\n",
              "        text-align: right;\n",
              "    }\n",
              "</style>\n",
              "<table border=\"1\" class=\"dataframe\">\n",
              "  <thead>\n",
              "    <tr style=\"text-align: right;\">\n",
              "      <th></th>\n",
              "      <th>sentence</th>\n",
              "      <th>text</th>\n",
              "      <th>translation</th>\n",
              "      <th>title</th>\n",
              "    </tr>\n",
              "    <tr>\n",
              "      <th>origin_index</th>\n",
              "      <th></th>\n",
              "      <th></th>\n",
              "      <th></th>\n",
              "      <th></th>\n",
              "    </tr>\n",
              "  </thead>\n",
              "  <tbody>\n",
              "    <tr>\n",
              "      <th>0</th>\n",
              "      <td>Bitcoin Price Update: Will China Lead us Down?</td>\n",
              "      <td>Bitcoin Price Update: Will China Lead us Down?</td>\n",
              "      <td>עדכון סין</td>\n",
              "      <td>Bitcoin Price Update: Will China Lead us Down?</td>\n",
              "    </tr>\n",
              "    <tr>\n",
              "      <th>1</th>\n",
              "      <td>Key Bitcoin Price Levels for Week 51 (15 – 22 ...</td>\n",
              "      <td>Key Bitcoin Price Levels for Week 51 (15 – 22 ...</td>\n",
              "      <td>רמת המחיר היא 15 -</td>\n",
              "      <td>Key Bitcoin Price Levels for Week 51 (15 – 22 ...</td>\n",
              "    </tr>\n",
              "    <tr>\n",
              "      <th>2</th>\n",
              "      <td>National Australia Bank, Citing Highly Flawed ...</td>\n",
              "      <td>National Australia Bank, Citing Highly Flawed ...</td>\n",
              "      <td>בנק.</td>\n",
              "      <td>National Australia Bank, Citing Highly Flawed ...</td>\n",
              "    </tr>\n",
              "    <tr>\n",
              "      <th>3</th>\n",
              "      <td>Chinese Bitcoin Ban Driven by  Chinese Banking...</td>\n",
              "      <td>Chinese Bitcoin Ban Driven by  Chinese Banking...</td>\n",
              "      <td>סיני</td>\n",
              "      <td>Chinese Bitcoin Ban Driven by  Chinese Banking...</td>\n",
              "    </tr>\n",
              "    <tr>\n",
              "      <th>4</th>\n",
              "      <td>Bitcoin Trade Update: Opened Position</td>\n",
              "      <td>Bitcoin Trade Update: Opened Position</td>\n",
              "      <td>עדכון</td>\n",
              "      <td>Bitcoin Trade Update: Opened Position</td>\n",
              "    </tr>\n",
              "    <tr>\n",
              "      <th>5</th>\n",
              "      <td>Key Bitcoin Price Levels for Week 52 (22 – 28 ...</td>\n",
              "      <td>Key Bitcoin Price Levels for Week 52 (22 – 28 ...</td>\n",
              "      <td>רמת מסחר ב '</td>\n",
              "      <td>Key Bitcoin Price Levels for Week 52 (22 – 28 ...</td>\n",
              "    </tr>\n",
              "    <tr>\n",
              "      <th>6</th>\n",
              "      <td>Bitcoin Survival</td>\n",
              "      <td>Bitcoin Survival</td>\n",
              "      <td>הישרדות</td>\n",
              "      <td>Bitcoin Survival</td>\n",
              "    </tr>\n",
              "    <tr>\n",
              "      <th>7</th>\n",
              "      <td>Massive Bitcoin Sell Going On</td>\n",
              "      <td>Massive Bitcoin Sell Going On</td>\n",
              "      <td>מכירת חיסול</td>\n",
              "      <td>Massive Bitcoin Sell Going On</td>\n",
              "    </tr>\n",
              "    <tr>\n",
              "      <th>8</th>\n",
              "      <td>Why Bitcoin will rise on Monday 23rd by more t...</td>\n",
              "      <td>Why Bitcoin will rise on Monday 23rd by more t...</td>\n",
              "      <td>למה?</td>\n",
              "      <td>Why Bitcoin will rise on Monday 23rd by more t...</td>\n",
              "    </tr>\n",
              "    <tr>\n",
              "      <th>9</th>\n",
              "      <td>Why Bitcoin is falling, and will rise again</td>\n",
              "      <td>Why Bitcoin is falling, and will rise again</td>\n",
              "      <td>למה Bitin,, ותעלה שוב, למה Bitcocoin,ויתקוםשוב...</td>\n",
              "      <td>Why Bitcoin is falling, and will rise again</td>\n",
              "    </tr>\n",
              "  </tbody>\n",
              "</table>\n",
              "</div>"
            ],
            "text/plain": [
              "                                                       sentence  ...                                              title\n",
              "origin_index                                                     ...                                                   \n",
              "0                Bitcoin Price Update: Will China Lead us Down?  ...     Bitcoin Price Update: Will China Lead us Down?\n",
              "1             Key Bitcoin Price Levels for Week 51 (15 – 22 ...  ...  Key Bitcoin Price Levels for Week 51 (15 – 22 ...\n",
              "2             National Australia Bank, Citing Highly Flawed ...  ...  National Australia Bank, Citing Highly Flawed ...\n",
              "3             Chinese Bitcoin Ban Driven by  Chinese Banking...  ...  Chinese Bitcoin Ban Driven by  Chinese Banking...\n",
              "4                         Bitcoin Trade Update: Opened Position  ...              Bitcoin Trade Update: Opened Position\n",
              "5             Key Bitcoin Price Levels for Week 52 (22 – 28 ...  ...  Key Bitcoin Price Levels for Week 52 (22 – 28 ...\n",
              "6                                              Bitcoin Survival  ...                                   Bitcoin Survival\n",
              "7                                 Massive Bitcoin Sell Going On  ...                      Massive Bitcoin Sell Going On\n",
              "8             Why Bitcoin will rise on Monday 23rd by more t...  ...  Why Bitcoin will rise on Monday 23rd by more t...\n",
              "9                   Why Bitcoin is falling, and will rise again  ...        Why Bitcoin is falling, and will rise again\n",
              "\n",
              "[10 rows x 4 columns]"
            ]
          },
          "metadata": {
            "tags": []
          },
          "execution_count": 11
        }
      ]
    }
  ]
}